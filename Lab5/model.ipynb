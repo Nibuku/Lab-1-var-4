{
 "cells": [
  {
   "cell_type": "code",
   "execution_count": 2,
   "metadata": {},
   "outputs": [],
   "source": [
    "from matplotlib import pyplot as plt\n",
    "import os\n",
    "import numpy as np\n",
    "import pandas as pd\n",
    "import glob\n",
    "import random\n",
    "from PIL import Image\n"
   ]
  },
  {
   "cell_type": "code",
   "execution_count": 7,
   "metadata": {},
   "outputs": [
    {
     "name": "stdout",
     "output_type": "stream",
     "text": [
      "['dataset\\\\rose\\\\0006.jpg', 'dataset\\\\tulip\\\\0030.jpg', 'dataset\\\\rose\\\\0023.jpg', 'dataset\\\\rose\\\\0019.jpg', 'dataset\\\\tulip\\\\0008.jpg']\n"
     ]
    }
   ],
   "source": [
    "dframe = pd.read_csv(\n",
    "    \"D:\\Lab on python\\Lab_1_var_4\\Lab2\\csv_files\\dataset.csv\", delimiter=\",\", names=[\"Absolute path\", \"Relative path\", \"Class\"]\n",
    ")\n",
    "data=dframe[\"Relative path\"].tolist()\n",
    "random.shuffle(data)\n",
    "print(data[:5])"
   ]
  }
 ],
 "metadata": {
  "kernelspec": {
   "display_name": "Python 3",
   "language": "python",
   "name": "python3"
  },
  "language_info": {
   "codemirror_mode": {
    "name": "ipython",
    "version": 3
   },
   "file_extension": ".py",
   "mimetype": "text/x-python",
   "name": "python",
   "nbconvert_exporter": "python",
   "pygments_lexer": "ipython3",
   "version": "3.11.6"
  }
 },
 "nbformat": 4,
 "nbformat_minor": 2
}
